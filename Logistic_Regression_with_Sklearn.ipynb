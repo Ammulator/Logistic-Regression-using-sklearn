{
  "nbformat": 4,
  "nbformat_minor": 0,
  "metadata": {
    "colab": {
      "name": "Logistic Regression with Sklearn.ipynb",
      "provenance": [],
      "authorship_tag": "ABX9TyO4xJblzgnpakpDR56oUIKD",
      "include_colab_link": true
    },
    "kernelspec": {
      "name": "python3",
      "display_name": "Python 3"
    }
  },
  "cells": [
    {
      "cell_type": "markdown",
      "metadata": {
        "id": "view-in-github",
        "colab_type": "text"
      },
      "source": [
        "<a href=\"https://colab.research.google.com/github/Ammulator/Logistic-Regression-using-sklearn/blob/main/Logistic_Regression_with_Sklearn.ipynb\" target=\"_parent\"><img src=\"https://colab.research.google.com/assets/colab-badge.svg\" alt=\"Open In Colab\"/></a>"
      ]
    },
    {
      "cell_type": "markdown",
      "metadata": {
        "id": "DEx1HDZMGBL9"
      },
      "source": [
        "Importing Libraries"
      ]
    },
    {
      "cell_type": "code",
      "metadata": {
        "id": "6tOrwCyJFsYC"
      },
      "source": [
        "import pandas as pd\r\n",
        "import numpy as np"
      ],
      "execution_count": null,
      "outputs": []
    },
    {
      "cell_type": "markdown",
      "metadata": {
        "id": "vSRqlmgNGcT5"
      },
      "source": [
        "Importing the file in Colab with the given data set"
      ]
    },
    {
      "cell_type": "code",
      "metadata": {
        "colab": {
          "base_uri": "https://localhost:8080/",
          "height": 195
        },
        "id": "3i2NvY_ZGF04",
        "outputId": "af671238-1216-41c2-9596-da53b8b8656e"
      },
      "source": [
        "df=pd.read_csv(\"sample_data/california_housing_train.csv\")\r\n",
        "df.head()"
      ],
      "execution_count": null,
      "outputs": [
        {
          "output_type": "execute_result",
          "data": {
            "text/html": [
              "<div>\n",
              "<style scoped>\n",
              "    .dataframe tbody tr th:only-of-type {\n",
              "        vertical-align: middle;\n",
              "    }\n",
              "\n",
              "    .dataframe tbody tr th {\n",
              "        vertical-align: top;\n",
              "    }\n",
              "\n",
              "    .dataframe thead th {\n",
              "        text-align: right;\n",
              "    }\n",
              "</style>\n",
              "<table border=\"1\" class=\"dataframe\">\n",
              "  <thead>\n",
              "    <tr style=\"text-align: right;\">\n",
              "      <th></th>\n",
              "      <th>longitude</th>\n",
              "      <th>latitude</th>\n",
              "      <th>housing_median_age</th>\n",
              "      <th>total_rooms</th>\n",
              "      <th>total_bedrooms</th>\n",
              "      <th>population</th>\n",
              "      <th>households</th>\n",
              "      <th>median_income</th>\n",
              "      <th>median_house_value</th>\n",
              "    </tr>\n",
              "  </thead>\n",
              "  <tbody>\n",
              "    <tr>\n",
              "      <th>0</th>\n",
              "      <td>-114.31</td>\n",
              "      <td>34.19</td>\n",
              "      <td>15.0</td>\n",
              "      <td>5612.0</td>\n",
              "      <td>1283.0</td>\n",
              "      <td>1015.0</td>\n",
              "      <td>472.0</td>\n",
              "      <td>1.4936</td>\n",
              "      <td>66900.0</td>\n",
              "    </tr>\n",
              "    <tr>\n",
              "      <th>1</th>\n",
              "      <td>-114.47</td>\n",
              "      <td>34.40</td>\n",
              "      <td>19.0</td>\n",
              "      <td>7650.0</td>\n",
              "      <td>1901.0</td>\n",
              "      <td>1129.0</td>\n",
              "      <td>463.0</td>\n",
              "      <td>1.8200</td>\n",
              "      <td>80100.0</td>\n",
              "    </tr>\n",
              "    <tr>\n",
              "      <th>2</th>\n",
              "      <td>-114.56</td>\n",
              "      <td>33.69</td>\n",
              "      <td>17.0</td>\n",
              "      <td>720.0</td>\n",
              "      <td>174.0</td>\n",
              "      <td>333.0</td>\n",
              "      <td>117.0</td>\n",
              "      <td>1.6509</td>\n",
              "      <td>85700.0</td>\n",
              "    </tr>\n",
              "    <tr>\n",
              "      <th>3</th>\n",
              "      <td>-114.57</td>\n",
              "      <td>33.64</td>\n",
              "      <td>14.0</td>\n",
              "      <td>1501.0</td>\n",
              "      <td>337.0</td>\n",
              "      <td>515.0</td>\n",
              "      <td>226.0</td>\n",
              "      <td>3.1917</td>\n",
              "      <td>73400.0</td>\n",
              "    </tr>\n",
              "    <tr>\n",
              "      <th>4</th>\n",
              "      <td>-114.57</td>\n",
              "      <td>33.57</td>\n",
              "      <td>20.0</td>\n",
              "      <td>1454.0</td>\n",
              "      <td>326.0</td>\n",
              "      <td>624.0</td>\n",
              "      <td>262.0</td>\n",
              "      <td>1.9250</td>\n",
              "      <td>65500.0</td>\n",
              "    </tr>\n",
              "  </tbody>\n",
              "</table>\n",
              "</div>"
            ],
            "text/plain": [
              "   longitude  latitude  ...  median_income  median_house_value\n",
              "0    -114.31     34.19  ...         1.4936             66900.0\n",
              "1    -114.47     34.40  ...         1.8200             80100.0\n",
              "2    -114.56     33.69  ...         1.6509             85700.0\n",
              "3    -114.57     33.64  ...         3.1917             73400.0\n",
              "4    -114.57     33.57  ...         1.9250             65500.0\n",
              "\n",
              "[5 rows x 9 columns]"
            ]
          },
          "metadata": {
            "tags": []
          },
          "execution_count": 5
        }
      ]
    },
    {
      "cell_type": "markdown",
      "metadata": {
        "id": "Rd6n3tivGp1m"
      },
      "source": [
        "Prep Data with Pandas"
      ]
    },
    {
      "cell_type": "code",
      "metadata": {
        "id": "o9BgzgFNGsLi"
      },
      "source": [
        "#As the above data is in Integer format then we didn't want to convert String to Integer\r\n",
        "#Now we take the Features and create a Numpy Array X\r\n",
        "#First we select all the columns we are intersted and then covert it into numpy arrays using values.\r\n",
        "#Here we are using the first 20 Values only\r\n",
        "X=df[['housing_median_age','total_rooms','total_bedrooms','households','median_income','population']].values[:20]"
      ],
      "execution_count": null,
      "outputs": []
    },
    {
      "cell_type": "code",
      "metadata": {
        "id": "KUfJFrQtH00-"
      },
      "source": [
        "#Now lets take the target or the predict column on Y and convert it into numpy arrays using values.\r\n",
        "Y=df['median_house_value'].values[:20]"
      ],
      "execution_count": null,
      "outputs": []
    },
    {
      "cell_type": "code",
      "metadata": {
        "colab": {
          "base_uri": "https://localhost:8080/"
        },
        "id": "hqRPBMi1ILZR",
        "outputId": "e7b6a14e-660c-4e9f-a575-9fd8284776a1"
      },
      "source": [
        "print(X)\r\n",
        "print(\"\\n\\n\\n\")\r\n",
        "print(Y)"
      ],
      "execution_count": null,
      "outputs": [
        {
          "output_type": "stream",
          "text": [
            "[[1.5000e+01 5.6120e+03 1.2830e+03 4.7200e+02 1.4936e+00 1.0150e+03]\n",
            " [1.9000e+01 7.6500e+03 1.9010e+03 4.6300e+02 1.8200e+00 1.1290e+03]\n",
            " [1.7000e+01 7.2000e+02 1.7400e+02 1.1700e+02 1.6509e+00 3.3300e+02]\n",
            " [1.4000e+01 1.5010e+03 3.3700e+02 2.2600e+02 3.1917e+00 5.1500e+02]\n",
            " [2.0000e+01 1.4540e+03 3.2600e+02 2.6200e+02 1.9250e+00 6.2400e+02]\n",
            " [2.9000e+01 1.3870e+03 2.3600e+02 2.3900e+02 3.3438e+00 6.7100e+02]\n",
            " [2.5000e+01 2.9070e+03 6.8000e+02 6.3300e+02 2.6768e+00 1.8410e+03]\n",
            " [4.1000e+01 8.1200e+02 1.6800e+02 1.5800e+02 1.7083e+00 3.7500e+02]\n",
            " [3.4000e+01 4.7890e+03 1.1750e+03 1.0560e+03 2.1782e+00 3.1340e+03]\n",
            " [4.6000e+01 1.4970e+03 3.0900e+02 2.7100e+02 2.1908e+00 7.8700e+02]\n",
            " [1.6000e+01 3.7410e+03 8.0100e+02 8.2400e+02 2.6797e+00 2.4340e+03]\n",
            " [2.1000e+01 1.9880e+03 4.8300e+02 4.3700e+02 1.6250e+00 1.1820e+03]\n",
            " [4.8000e+01 1.2910e+03 2.4800e+02 2.1100e+02 2.1571e+00 5.8000e+02]\n",
            " [3.1000e+01 2.4780e+03 4.6400e+02 4.7900e+02 3.2120e+00 1.3460e+03]\n",
            " [1.5000e+01 1.4480e+03 3.7800e+02 3.0000e+02 8.5850e-01 9.4900e+02]\n",
            " [1.7000e+01 2.5560e+03 5.8700e+02 4.0100e+02 1.6991e+00 1.0050e+03]\n",
            " [2.8000e+01 1.6780e+03 3.2200e+02 2.5600e+02 2.9653e+00 6.6600e+02]\n",
            " [2.1000e+01 4.4000e+01 3.3000e+01 2.7000e+01 8.5710e-01 6.4000e+01]\n",
            " [1.7000e+01 1.3880e+03 3.8600e+02 3.2000e+02 1.2049e+00 7.7500e+02]\n",
            " [1.7000e+01 9.7000e+01 2.4000e+01 1.5000e+01 1.2656e+00 2.9000e+01]]\n",
            "\n",
            "\n",
            "\n",
            "\n",
            "[66900. 80100. 85700. 73400. 65500. 74000. 82400. 48500. 58400. 48100.\n",
            " 86500. 62000. 48600. 70400. 45000. 69100. 94900. 25000. 44000. 27500.]\n"
          ],
          "name": "stdout"
        }
      ]
    },
    {
      "cell_type": "markdown",
      "metadata": {
        "id": "Ac_OnL2JIdiN"
      },
      "source": [
        "***Build a Logistic regression Model***"
      ]
    },
    {
      "cell_type": "code",
      "metadata": {
        "colab": {
          "base_uri": "https://localhost:8080/"
        },
        "id": "l-6CaTZ8Ic2k",
        "outputId": "b50532d9-319b-46a1-962a-e21cc9e0f049"
      },
      "source": [
        "from sklearn.linear_model import LogisticRegression\r\n",
        "model=LogisticRegression()\r\n",
        "model.fit(X,Y)"
      ],
      "execution_count": null,
      "outputs": [
        {
          "output_type": "stream",
          "text": [
            "/usr/local/lib/python3.6/dist-packages/sklearn/linear_model/_logistic.py:940: ConvergenceWarning: lbfgs failed to converge (status=1):\n",
            "STOP: TOTAL NO. of ITERATIONS REACHED LIMIT.\n",
            "\n",
            "Increase the number of iterations (max_iter) or scale the data as shown in:\n",
            "    https://scikit-learn.org/stable/modules/preprocessing.html\n",
            "Please also refer to the documentation for alternative solver options:\n",
            "    https://scikit-learn.org/stable/modules/linear_model.html#logistic-regression\n",
            "  extra_warning_msg=_LOGISTIC_SOLVER_CONVERGENCE_MSG)\n"
          ],
          "name": "stderr"
        },
        {
          "output_type": "execute_result",
          "data": {
            "text/plain": [
              "LogisticRegression(C=1.0, class_weight=None, dual=False, fit_intercept=True,\n",
              "                   intercept_scaling=1, l1_ratio=None, max_iter=100,\n",
              "                   multi_class='auto', n_jobs=None, penalty='l2',\n",
              "                   random_state=None, solver='lbfgs', tol=0.0001, verbose=0,\n",
              "                   warm_start=False)"
            ]
          },
          "metadata": {
            "tags": []
          },
          "execution_count": 19
        }
      ]
    },
    {
      "cell_type": "code",
      "metadata": {
        "colab": {
          "base_uri": "https://localhost:8080/"
        },
        "id": "1CrNbSsFKRYo",
        "outputId": "459078a3-8f99-4fb1-e7ea-3718ab4dcbbc"
      },
      "source": [
        "#Now we predict the value\r\n",
        "print(model.predict(X[:5]))\r\n",
        "print(\"\\n\\n\")\r\n",
        "print(model.predict(X))\r\n",
        "print(\"\\n\\n\")\r\n",
        "print(Y)"
      ],
      "execution_count": null,
      "outputs": [
        {
          "output_type": "stream",
          "text": [
            "[66900. 80100. 85700. 73400. 65500.]\n",
            "\n",
            "\n",
            "\n",
            "[66900. 80100. 85700. 73400. 65500. 74000. 82400. 48500. 58400. 48100.\n",
            " 86500. 62000. 48600. 70400. 45000. 69100. 94900. 25000. 44000. 27500.]\n",
            "\n",
            "\n",
            "\n",
            "[66900. 80100. 85700. 73400. 65500. 74000. 82400. 48500. 58400. 48100.\n",
            " 86500. 62000. 48600. 70400. 45000. 69100. 94900. 25000. 44000. 27500.]\n"
          ],
          "name": "stdout"
        }
      ]
    },
    {
      "cell_type": "markdown",
      "metadata": {
        "id": "skGD62RTNNwI"
      },
      "source": [
        "**Score the Model to Calculate the Accuracy Score**"
      ]
    },
    {
      "cell_type": "code",
      "metadata": {
        "colab": {
          "base_uri": "https://localhost:8080/"
        },
        "id": "TR34EVHHNMy2",
        "outputId": "3d118772-fd4d-4b20-d61d-a441d7b3e964"
      },
      "source": [
        "y_pre=model.predict(X)\r\n",
        "Y==y_pre\r\n",
        "\r\n",
        "print((Y==y_pre).sum())\r\n",
        "#We can see that out of 20 data points all are correct ao to calculate the accuracy score \r\n",
        "#we divide the sum with the shape\r\n",
        "print((Y==y_pre).sum()/Y.shape[0])\r\n",
        "#Thus we get the accuracy as 100 percent\r\n",
        "#We can also calculate the accuracy score using the score method \r\n",
        "print(\"The accuracy score is : \",model.score(X,Y))"
      ],
      "execution_count": null,
      "outputs": [
        {
          "output_type": "stream",
          "text": [
            "20\n",
            "1.0\n",
            "The accuracy score is :  1.0\n"
          ],
          "name": "stdout"
        }
      ]
    }
  ]
}